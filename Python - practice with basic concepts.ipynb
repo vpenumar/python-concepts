{
 "cells": [
  {
   "cell_type": "code",
   "execution_count": 1,
   "metadata": {},
   "outputs": [],
   "source": [
    "#VARIABLES\n",
    "#This is a single line comment\n",
    "#Coder singh is very helpful\n",
    "name = \"Nandini\"\n",
    "age = 19\n",
    "IsSingle = False\n",
    "\n",
    "#print(name)\n",
    "#print(\"My age is\", age)\n",
    "#print(IsSingle)"
   ]
  },
  {
   "cell_type": "code",
   "execution_count": 2,
   "metadata": {},
   "outputs": [
    {
     "name": "stdout",
     "output_type": "stream",
     "text": [
      "Still a girl\n"
     ]
    }
   ],
   "source": [
    "#CONDITIONS\n",
    "if age > 24:\n",
    "   print(\"She is a Woman\")\n",
    "elif age < 10 and age > 5:\n",
    "    print(\"Very young girl\")\n",
    "elif age == 10 or age == 6:\n",
    "    print(\"Age is 10 or 6\")\n",
    "else:\n",
    "     print(\"Still a girl\")"
   ]
  },
  {
   "cell_type": "code",
   "execution_count": 3,
   "metadata": {},
   "outputs": [
    {
     "name": "stdout",
     "output_type": "stream",
     "text": [
      "Conditions are false\n"
     ]
    }
   ],
   "source": [
    "#CONDITIONS\n",
    "if age == 5 or age == 3 and name == \"Nandini\" or name == \"Nandini don\":\n",
    "    print(\"Conditions are true\")\n",
    "else:\n",
    "    print(\"Conditions are false\")"
   ]
  },
  {
   "cell_type": "code",
   "execution_count": 4,
   "metadata": {},
   "outputs": [
    {
     "name": "stdout",
     "output_type": "stream",
     "text": [
      "Conditions are false\n"
     ]
    }
   ],
   "source": [
    "#CONDITIONS\n",
    "if age == 5 and name == \"Nandini\" or age == 3 and name ==\"Don\":\n",
    "   print(\"Conditions are true\")\n",
    "else:\n",
    "    print(\"Conditions are false\")"
   ]
  },
  {
   "cell_type": "code",
   "execution_count": 5,
   "metadata": {},
   "outputs": [
    {
     "name": "stdout",
     "output_type": "stream",
     "text": [
      "1\n",
      "2\n",
      "3\n"
     ]
    }
   ],
   "source": [
    "print(1)\n",
    "print(2)\n",
    "print(3)"
   ]
  },
  {
   "cell_type": "code",
   "execution_count": 6,
   "metadata": {},
   "outputs": [
    {
     "name": "stdout",
     "output_type": "stream",
     "text": [
      "1\n",
      "2\n",
      "3\n",
      "4\n",
      "5\n",
      "6\n",
      "7\n",
      "8\n",
      "9\n"
     ]
    }
   ],
   "source": [
    "#LOOPS\n",
    "for i in range(1,10):\n",
    "    print(i)"
   ]
  },
  {
   "cell_type": "code",
   "execution_count": 7,
   "metadata": {},
   "outputs": [
    {
     "name": "stdout",
     "output_type": "stream",
     "text": [
      "small number 1\n",
      "small number 2\n",
      "small number 3\n",
      "small number 4\n",
      "small number 5\n",
      "Big number 6\n",
      "Big number 7\n",
      "Big number 8\n",
      "Big number 9\n"
     ]
    }
   ],
   "source": [
    "#LOOPS\n",
    "for i in range(1,10):\n",
    "    if i > 5:\n",
    "      print(\"Big number\",i)\n",
    "    else:\n",
    "        print(\"small number\",i)"
   ]
  },
  {
   "cell_type": "code",
   "execution_count": 8,
   "metadata": {},
   "outputs": [
    {
     "name": "stdout",
     "output_type": "stream",
     "text": [
      "1\n",
      "2\n",
      "3\n",
      "4\n",
      "5\n",
      "6\n",
      "7\n",
      "8\n",
      "9\n",
      "10\n"
     ]
    }
   ],
   "source": [
    "#LOOPS\n",
    "end = 1\n",
    "while end <= 10:\n",
    "    print(end)\n",
    "    end = end + 1"
   ]
  },
  {
   "cell_type": "code",
   "execution_count": 9,
   "metadata": {},
   "outputs": [
    {
     "name": "stdout",
     "output_type": "stream",
     "text": [
      "Division 5.0\n",
      "Mul 20\n",
      "Addition 12\n",
      "Substraction 8\n"
     ]
    }
   ],
   "source": [
    "num1 = 10\n",
    "num2 = 2\n",
    "\n",
    "print(\"Division\",num1 / num2)\n",
    "print(\"Mul\",num1 * num2)\n",
    "print(\"Addition\",num1+num2)\n",
    "print(\"Substraction\",num1-num2)"
   ]
  },
  {
   "cell_type": "code",
   "execution_count": 10,
   "metadata": {},
   "outputs": [
    {
     "name": "stdout",
     "output_type": "stream",
     "text": [
      "Modulus 0\n"
     ]
    }
   ],
   "source": [
    "# Modulus - remainder\n",
    "print(\"Modulus\",num1%num2)"
   ]
  },
  {
   "cell_type": "code",
   "execution_count": 11,
   "metadata": {},
   "outputs": [
    {
     "name": "stdout",
     "output_type": "stream",
     "text": [
      "Odd 1\n",
      "Even 2\n",
      "Odd 3\n",
      "Even 4\n",
      "Odd 5\n",
      "Even 6\n",
      "Odd 7\n",
      "Even 8\n",
      "Odd 9\n",
      "Even 10\n"
     ]
    }
   ],
   "source": [
    "for i in range(1,11):\n",
    "    if i % 2 == 0:\n",
    "        print(\"Even\",i)\n",
    "    else:\n",
    "        print(\"Odd\",i)"
   ]
  },
  {
   "cell_type": "code",
   "execution_count": 12,
   "metadata": {},
   "outputs": [],
   "source": [
    "#Break Continue\n",
    "for i in range(657,98789):\n",
    "    if i % 5 == 0:\n",
    "        break\n",
    "        print(i)\n",
    "        print(\"The number is\",i)"
   ]
  },
  {
   "cell_type": "code",
   "execution_count": 13,
   "metadata": {},
   "outputs": [
    {
     "name": "stdout",
     "output_type": "stream",
     "text": [
      "['BMW', 'Marcedes', 'Audi']\n",
      "('Suzuki', 'Yamaha', 'Ducati')\n"
     ]
    }
   ],
   "source": [
    "#List and tupple\n",
    "cars = [\"BMW\",\"Marcedes\",\"Audi\"]\n",
    "bikes =(\"Suzuki\",\"Yamaha\",\"Ducati\")\n",
    "print(cars)\n",
    "print(bikes)"
   ]
  },
  {
   "cell_type": "code",
   "execution_count": 14,
   "metadata": {},
   "outputs": [
    {
     "name": "stdout",
     "output_type": "stream",
     "text": [
      "['BMW', 'Marcedes', 'Audi', 'Maruti']\n"
     ]
    }
   ],
   "source": [
    "cars.append(\"Maruti\")\n",
    "print(cars)"
   ]
  },
  {
   "cell_type": "code",
   "execution_count": 15,
   "metadata": {},
   "outputs": [
    {
     "name": "stdout",
     "output_type": "stream",
     "text": [
      "I wanr this car: BMW\n",
      "I wanr this car: Marcedes\n",
      "I wanr this car: Audi\n",
      "I wanr this car: Maruti\n",
      "I want the bike: Suzuki\n",
      "I want the bike: Yamaha\n",
      "I want the bike: Ducati\n",
      "4\n",
      "3\n"
     ]
    }
   ],
   "source": [
    "#The values for bikes is fixed when given with ()\n",
    "for c in cars:\n",
    "    print(\"I wanr this car:\",c)\n",
    "for b in bikes:\n",
    "    print(\"I want the bike:\",b)\n",
    "\n",
    "print(len(cars))\n",
    "print(len(bikes))"
   ]
  },
  {
   "cell_type": "code",
   "execution_count": 16,
   "metadata": {},
   "outputs": [
    {
     "name": "stdout",
     "output_type": "stream",
     "text": [
      "{'name': 'Nandini', 'age': 25}\n",
      "Nandini\n",
      "25\n"
     ]
    }
   ],
   "source": [
    "#Dictionary\n",
    "person = {\n",
    "    \"name\":\"Nandini\",\n",
    "    \"age\":25\n",
    "}\n",
    "print(person)\n",
    "print(person[\"name\"])\n",
    "print(person[\"age\"])"
   ]
  },
  {
   "cell_type": "code",
   "execution_count": 17,
   "metadata": {},
   "outputs": [
    {
     "name": "stdout",
     "output_type": "stream",
     "text": [
      "2\n",
      "Odd\n"
     ]
    }
   ],
   "source": [
    "#Functions - set of code - which we can repetitively call\n",
    "#Global scope\n",
    "mainNumber = 5\n",
    "def isEven(num):\n",
    "    if num % mainNumber == 0:\n",
    "     print(\"Even\")\n",
    "    else:\n",
    "        print(\"Odd\")\n",
    "    num2 = 2\n",
    "print(num2)        \n",
    "for i in range(77,78):\n",
    "    isEven(i)"
   ]
  },
  {
   "cell_type": "code",
   "execution_count": 21,
   "metadata": {
    "scrolled": true
   },
   "outputs": [
    {
     "name": "stdout",
     "output_type": "stream",
     "text": [
      "2: 4\n",
      "Odd\n",
      "1: 4\n"
     ]
    }
   ],
   "source": [
    "#Global scope variable\n",
    "mainNumber = 5\n",
    "def isEven(num):\n",
    "    global mainNumber\n",
    "    mainNumber = 4\n",
    "    print(\"2:\",mainNumber)\n",
    "    if num % mainNumber == 0:\n",
    "     print(\"Even\")\n",
    "    else:\n",
    "        print(\"Odd\")\n",
    "          \n",
    "for i in range(77,78):\n",
    "    isEven(i)\n",
    "print(\"1:\",mainNumber) "
   ]
  },
  {
   "cell_type": "code",
   "execution_count": 26,
   "metadata": {},
   "outputs": [
    {
     "name": "stdout",
     "output_type": "stream",
     "text": [
      "B: 99  WC: 0\n",
      "B: 97  WC: 1\n",
      "B: 94  WC: 2\n",
      "B: 90  WC: 3\n",
      "B: 185  WC: 0\n",
      "B: 179  WC: 1\n",
      "B: 172  WC: 2\n",
      "B: 164  WC: 3\n",
      "B: 255  WC: 0\n",
      "Balance: 1155\n"
     ]
    }
   ],
   "source": [
    "#EXAMPLE\n",
    "balance = 100\n",
    "withdraw_count = 0\n",
    "def withdraw(amt):\n",
    "    global balance\n",
    "    balance -= amt\n",
    "    global withdraw_count\n",
    "    print(\"B:\", balance, \" WC:\", withdraw_count)\n",
    "    withdraw_count += 1\n",
    "    if withdraw_count == 4:\n",
    "        balance += 100\n",
    "        withdraw_count = 0\n",
    "def add(amt):\n",
    "    global balance\n",
    "    balance += amt\n",
    "\n",
    "for i in range(1, 10):\n",
    "    withdraw(i)\n",
    "add(900)\n",
    "print(\"Balance:\", balance)"
   ]
  },
  {
   "cell_type": "code",
   "execution_count": 29,
   "metadata": {},
   "outputs": [
    {
     "name": "stdout",
     "output_type": "stream",
     "text": [
      "2\n",
      "3\n",
      "4\n",
      "5\n",
      "6\n",
      "7\n",
      "8\n",
      "9\n"
     ]
    }
   ],
   "source": [
    "#Yield - used in python generators\n",
    "def genNum():\n",
    "     for i in range(2, 10):\n",
    "            yield i\n",
    "            \n",
    "for i in genNum():\n",
    "    print(i)"
   ]
  },
  {
   "cell_type": "code",
   "execution_count": 32,
   "metadata": {},
   "outputs": [
    {
     "name": "stdout",
     "output_type": "stream",
     "text": [
      "181\n"
     ]
    }
   ],
   "source": [
    "#Lambda\n",
    "def mul(num):\n",
    "    return num * num\n",
    "a = mul(10)\n",
    "print(mul(9) + a)"
   ]
  },
  {
   "cell_type": "code",
   "execution_count": 34,
   "metadata": {},
   "outputs": [
    {
     "name": "stdout",
     "output_type": "stream",
     "text": [
      "181\n"
     ]
    }
   ],
   "source": [
    "#above code in one line using Lambda\n",
    "mul = lambda x : x * x\n",
    "\n",
    "a = mul(10)\n",
    "print(mul(9) + a)"
   ]
  },
  {
   "cell_type": "code",
   "execution_count": 36,
   "metadata": {},
   "outputs": [
    {
     "name": "stdout",
     "output_type": "stream",
     "text": [
      "<map object at 0x0000029A8D099710>\n"
     ]
    }
   ],
   "source": [
    "#Map function\n",
    "mul = lambda x : x * x\n",
    "mulList = [4, 8, 90, 2]\n",
    "out = map(mul, mulList)\n",
    "print(out)"
   ]
  },
  {
   "cell_type": "code",
   "execution_count": 38,
   "metadata": {},
   "outputs": [
    {
     "name": "stdout",
     "output_type": "stream",
     "text": [
      "16\n",
      "64\n",
      "8100\n",
      "4\n"
     ]
    }
   ],
   "source": [
    "mul = lambda x : x * x\n",
    "mulList = [4, 8, 90, 2]\n",
    "out = map(mul, mulList)\n",
    "for i in out:\n",
    "    print(i)"
   ]
  },
  {
   "cell_type": "code",
   "execution_count": 39,
   "metadata": {},
   "outputs": [
    {
     "name": "stdout",
     "output_type": "stream",
     "text": [
      "False\n"
     ]
    }
   ],
   "source": [
    "#Filter\n",
    "isBigger = lambda x, y: x > y\n",
    "print(isBigger(5,12))"
   ]
  },
  {
   "cell_type": "code",
   "execution_count": 44,
   "metadata": {},
   "outputs": [
    {
     "name": "stdout",
     "output_type": "stream",
     "text": [
      "23\n",
      "44\n",
      "34\n",
      "774\n"
     ]
    }
   ],
   "source": [
    "isBigger = lambda x: x > 7\n",
    "nums = [23, 44, 34, 5, 6, 6, 774, 4, 3, 2]\n",
    "bigNums = filter(isBigger, nums)\n",
    "for i in bigNums:\n",
    "      print(i)"
   ]
  },
  {
   "cell_type": "code",
   "execution_count": 55,
   "metadata": {},
   "outputs": [
    {
     "name": "stdout",
     "output_type": "stream",
     "text": [
      "Nandini\n",
      "25\n",
      "Coder Singh\n",
      "22\n",
      "Nandini\n",
      "20\n",
      "Preet\n",
      "70\n"
     ]
    }
   ],
   "source": [
    "#Class and Inheritance\n",
    "class Person:\n",
    "    \n",
    "    def __init__(self, name, age):\n",
    "         self.name = name\n",
    "         self.age = age\n",
    "    def getName(self):\n",
    "        return self.name\n",
    "    def getAge(self):\n",
    "        return self.age\n",
    "    \n",
    "class Employee(Person):\n",
    "    \n",
    "    def setSalary(self, salary):\n",
    "        self.salary = salary\n",
    "\n",
    "p1 = Person(\"Nandini\", 25)\n",
    "p2 = Person(\"Coder Singh\", 22)\n",
    "\n",
    "print(p1.name)\n",
    "print(p1.getAge())\n",
    "print(p2.name)\n",
    "print(p2.age)\n",
    "\n",
    "e1 = Employee(\"Nandini\", 22)\n",
    "e1.setSalary(20)\n",
    "e2 = Employee(\"Preet\", 25)\n",
    "e2.salary = 70\n",
    "\n",
    "print(e1.name)\n",
    "print(e1.salary)\n",
    "\n",
    "print(e2.name)\n",
    "print(e2.salary)"
   ]
  },
  {
   "cell_type": "code",
   "execution_count": null,
   "metadata": {},
   "outputs": [],
   "source": []
  }
 ],
 "metadata": {
  "kernelspec": {
   "display_name": "Python 3",
   "language": "python",
   "name": "python3"
  },
  "language_info": {
   "codemirror_mode": {
    "name": "ipython",
    "version": 3
   },
   "file_extension": ".py",
   "mimetype": "text/x-python",
   "name": "python",
   "nbconvert_exporter": "python",
   "pygments_lexer": "ipython3",
   "version": "3.7.1"
  }
 },
 "nbformat": 4,
 "nbformat_minor": 2
}
